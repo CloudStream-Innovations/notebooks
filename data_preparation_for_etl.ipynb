{
  "nbformat": 4,
  "nbformat_minor": 0,
  "metadata": {
    "colab": {
      "provenance": []
    },
    "kernelspec": {
      "name": "python3",
      "display_name": "Python 3"
    },
    "language_info": {
      "name": "python"
    }
  },
  "cells": [
    {
      "cell_type": "markdown",
      "source": [
        "# Data Preparation for ETL Process\n",
        "\n",
        "## Overview\n",
        "This notebook guides you through the initial steps to prepare a dataset for the Extract, Transform, Load (ETL) process using Python. The dataset will undergo preprocessing to ensure it meets the requirements for subsequent data processing tasks.\n",
        "\n",
        "## Description\n",
        "The notebook covers the following data preparation steps:\n",
        "\n",
        "1. **Unzip File**: The original dataset file is often compressed for storage or transfer. The `unzip_file` function extracts the contents of the compressed file, allowing access to the dataset for preprocessing.\n",
        "\n",
        "2. **Copy Original File**: Once the dataset is extracted, a backup or working copy is created. This ensures that any modifications made during preprocessing do not affect the original data.\n",
        "\n",
        "3. **Create Rows**: Certain data formats may require specific delimiters or formatting for processing. The `create_rows` function addresses this by modifying the dataset's structure to ensure compatibility with downstream processes.\n",
        "\n",
        "4. **Square Brackets**: Another common data formatting requirement involves enclosing data within square brackets, typically for JSON formatting. The `square_brackets` function adds square brackets around the dataset's content to meet this formatting standard.\n",
        "\n",
        "5. **Pretty Print**: Finally, the `pretty_print` function enhances the readability of the dataset by adding indentation to the JSON content. This step is optional but can greatly improve the dataset's readability and maintainability.\n",
        "\n",
        "By following these steps, you'll prepare the dataset for efficient data extraction, transformation, and loading operations in subsequent stages of the ETL process."
      ],
      "metadata": {
        "id": "nJWYpJHi-aVx"
      }
    },
    {
      "cell_type": "code",
      "source": [
        "import zipfile\n",
        "import re\n",
        "import shutil\n",
        "import json"
      ],
      "metadata": {
        "id": "3bjbtVUjAI-h"
      },
      "execution_count": 12,
      "outputs": []
    },
    {
      "cell_type": "markdown",
      "source": [
        "## Functions"
      ],
      "metadata": {
        "id": "YotAs64b_OTX"
      }
    },
    {
      "cell_type": "code",
      "source": [
        "def extract_zip(zip_file_path, extract_to_directory):\n",
        "    \"\"\"\n",
        "    Extracts the contents of a zip file to a specified directory.\n",
        "\n",
        "    Parameters:\n",
        "        zip_file_path (str): Path to the zip file.\n",
        "        extract_to_directory (str): Directory where the files will be extracted.\n",
        "    \"\"\"\n",
        "    # Open the zip file\n",
        "    with zipfile.ZipFile(zip_file_path, 'r') as zip_ref:\n",
        "        # Extract all the contents to the specified directory\n",
        "        zip_ref.extractall(extract_to_directory)\n",
        "\n",
        "    print(\"Extraction completed.\")"
      ],
      "metadata": {
        "id": "z28zcxm9_bUE"
      },
      "execution_count": 13,
      "outputs": []
    },
    {
      "cell_type": "code",
      "source": [
        "def update_json_structure(file_path):\n",
        "    \"\"\"\n",
        "    Replaces instances of '}{' with '},{' in the content of a file.\n",
        "\n",
        "    Parameters:\n",
        "        file_path (str): The path to the file.\n",
        "\n",
        "    Raises:\n",
        "        FileNotFoundError: If the specified file does not exist.\n",
        "        PermissionError: If there is no permission to access or modify the file.\n",
        "        Exception: For any other unexpected errors.\n",
        "\n",
        "    Notes:\n",
        "        - The function reads the content of the file, searches for instances of '}{',\n",
        "          and replaces them with '},{', effectively modifying the file's content in place.\n",
        "        - The file's content is modified in-place. If the file does not exist,\n",
        "          a new file will not be created.\n",
        "        - Uses regular expressions (re module) for pattern matching and substitution.\n",
        "    \"\"\"\n",
        "    search_text = r\"}{\"\n",
        "    replace_text = r\"},{\"\n",
        "\n",
        "    try:\n",
        "        with open(file_path, 'r+') as f:\n",
        "            file_content = f.read()\n",
        "            file_content = re.sub(search_text, replace_text, file_content)\n",
        "            f.seek(0)\n",
        "            f.write(file_content)\n",
        "            f.truncate()  # Truncate the file in case the new content is shorter than the old one\n",
        "        print(\"Text replacement completed.\")\n",
        "    except FileNotFoundError:\n",
        "        print(f\"File '{file_path}' not found.\")\n",
        "    except PermissionError:\n",
        "        print(f\"No permission to access or modify '{file_path}'.\")\n",
        "    except Exception as e:\n",
        "        print(f\"An error occurred: {str(e)}\")"
      ],
      "metadata": {
        "id": "PNYJ_BOnAfhG"
      },
      "execution_count": 14,
      "outputs": []
    },
    {
      "cell_type": "code",
      "source": [
        "def square_brackets(file_path):\n",
        "    \"\"\"\n",
        "    Adds square brackets around the content of a file.\n",
        "\n",
        "    Parameters:\n",
        "        file_path (str): The path to the file.\n",
        "\n",
        "    Raises:\n",
        "        FileNotFoundError: If the specified file does not exist.\n",
        "        PermissionError: If there is no permission to access or modify the file.\n",
        "        Exception: For any other unexpected errors.\n",
        "\n",
        "    Notes:\n",
        "        - The function reads the content of the file, adds square brackets around it,\n",
        "          and writes the modified content back to the same file, effectively enclosing\n",
        "          the original content within square brackets.\n",
        "        - The file's content is modified in-place. If the file does not exist,\n",
        "          a new file will not be created.\n",
        "    \"\"\"\n",
        "    try:\n",
        "        with open(file_path, 'r+') as f:\n",
        "            original_content = f.read()\n",
        "            f.seek(0)  # Move the cursor to the beginning of the file\n",
        "            f.write(\"[\" + original_content + \"]\")\n",
        "            f.truncate()  # Truncate the file to remove any excess content after writing\n",
        "        print(\"Square brackets added successfully.\")\n",
        "    except FileNotFoundError:\n",
        "        print(f\"File '{file_path}' not found.\")\n",
        "    except PermissionError:\n",
        "        print(f\"No permission to access or modify '{file_path}'.\")\n",
        "    except Exception as e:\n",
        "        print(f\"An error occurred: {str(e)}\")"
      ],
      "metadata": {
        "id": "i90G42nGBMeI"
      },
      "execution_count": 15,
      "outputs": []
    },
    {
      "cell_type": "code",
      "source": [
        "def copy_original_file(file_path_original, file_path_copy):\n",
        "    \"\"\"\n",
        "    Copies a file from the original location to a new location.\n",
        "\n",
        "    Parameters:\n",
        "        file_path_original (str): The path to the original file.\n",
        "        file_path_copy (str): The path to copy the file to.\n",
        "\n",
        "    Raises:\n",
        "        FileNotFoundError: If the original file does not exist.\n",
        "        PermissionError: If there is no permission to access the original file or create the copy.\n",
        "        Exception: For any other unexpected errors.\n",
        "    \"\"\"\n",
        "    try:\n",
        "        shutil.copyfile(file_path_original, file_path_copy)\n",
        "        print(\"File copied successfully.\")\n",
        "    except FileNotFoundError:\n",
        "        print(f\"Original file '{file_path_original}' not found.\")\n",
        "    except PermissionError:\n",
        "        print(f\"No permission to access or copy files.\")\n",
        "    except Exception as e:\n",
        "        print(f\"An error occurred: {str(e)}\")"
      ],
      "metadata": {
        "id": "iGMU8tMjCmGD"
      },
      "execution_count": 16,
      "outputs": []
    },
    {
      "cell_type": "code",
      "source": [
        "def pretty_print(file_path):\n",
        "    \"\"\"\n",
        "    Pretty prints JSON data stored in a file by adding indentation.\n",
        "\n",
        "    Parameters:\n",
        "        file_path (str): The path to the JSON file.\n",
        "\n",
        "    Raises:\n",
        "        FileNotFoundError: If the specified file does not exist.\n",
        "        PermissionError: If there is no permission to access or modify the file.\n",
        "        Exception: For any other unexpected errors.\n",
        "    \"\"\"\n",
        "    try:\n",
        "        # Read JSON data from file\n",
        "        with open(file_path, 'r') as f:\n",
        "            data = json.load(f)\n",
        "\n",
        "        # Write JSON data back to file with indentation\n",
        "        with open(file_path, 'w') as f:\n",
        "            json.dump(data, f, indent=4)\n",
        "\n",
        "        print(\"File pretty printing completed.\")\n",
        "    except FileNotFoundError:\n",
        "        print(f\"File '{file_path}' not found.\")\n",
        "    except PermissionError:\n",
        "        print(f\"No permission to access or modify '{file_path}'.\")\n",
        "    except Exception as e:\n",
        "        print(f\"An error occurred: {str(e)}\")"
      ],
      "metadata": {
        "id": "AHThxDqBFVTL"
      },
      "execution_count": 17,
      "outputs": []
    },
    {
      "cell_type": "code",
      "source": [
        "# Define file paths\n",
        "file_path_original = \"data.json\"\n",
        "file_path_copy = \"data_copy.json\"\n",
        "extract_to_directory = \"./\"\n",
        "zip_file_path = \"data.json.zip\"\n",
        "\n",
        "# Execute the functions sequentially\n",
        "extract_zip(zip_file_path, extract_to_directory)\n",
        "copy_original_file(file_path_original, file_path_copy)\n",
        "update_json_structure(file_path_copy)\n",
        "square_brackets(file_path_copy)\n",
        "pretty_print(file_path_copy)"
      ],
      "metadata": {
        "colab": {
          "base_uri": "https://localhost:8080/"
        },
        "id": "PqX8CJvkE_mc",
        "outputId": "7b1ec4cb-5164-468e-e879-d9d216c47b2a"
      },
      "execution_count": 18,
      "outputs": [
        {
          "output_type": "stream",
          "name": "stdout",
          "text": [
            "Extraction completed.\n",
            "File copied successfully.\n",
            "Text replacement completed.\n",
            "Square brackets added successfully.\n",
            "File pretty printing completed.\n"
          ]
        }
      ]
    }
  ]
}