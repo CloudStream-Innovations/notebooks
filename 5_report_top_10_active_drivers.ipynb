{
  "nbformat": 4,
  "nbformat_minor": 0,
  "metadata": {
    "colab": {
      "provenance": []
    },
    "kernelspec": {
      "name": "python3",
      "display_name": "Python 3"
    },
    "language_info": {
      "name": "python"
    }
  },
  "cells": [
    {
      "cell_type": "markdown",
      "source": [
        "# Top 10 Active Drivers Report\n",
        "\n",
        "## Overview\n",
        "This Jupyter notebook generates a report showcasing the top 10 active drivers based on a combination of various driver metrics. The goal is to identify and highlight the best-performing drivers within the taxi service based on a holistic evaluation of their performance.\n",
        "\n",
        "## Description\n",
        "The metrics used for ranking the drivers include:\n",
        "\n",
        "- **Endurance Score**: Measures the driver's ability to work long hours without a drop in performance.\n",
        "- **Profitability Score**: Assesses how profitable a driver is for the company.\n",
        "- **Safety Score**: Evaluates the driver's adherence to safety protocols.\n",
        "- **Efficiency Score**: Gauges how efficiently the driver completes trips.\n",
        "- **Recognition Score**: Reflects any special achievements or awards received by the driver.\n",
        "- **Customer Satisfaction Score**: Based on the ratings given by customers.\n",
        "- **Experience Score**: Accounts for the driver's overall experience in the field.\n"
      ],
      "metadata": {
        "id": "ypzzlXLkRE63"
      }
    },
    {
      "cell_type": "markdown",
      "source": [
        "## Methodology\n",
        "### Pillars of Driver Evaluation\n",
        "The evaluation is based on four main pillars:\n",
        "\n",
        "#### 1. Operational Metrics:\n",
        "**Endurance Score**: Weighted at 20%. This score measures the driver's ability to maintain performance over long hours.\n",
        "\n",
        "**Profitability Score**: Weighted at 40%. This score assesses the financial efficiency and profitability of the driver.\n",
        "\n",
        "**Efficiency Score**: Weighted at 30%. This score gauges the driver's ability to complete trips efficiently.\n",
        "\n",
        "**Safety Score**: Weighted at 50%. This score evaluates the driver's adherence to safety protocols.\n",
        "\n",
        "##### Weightings\n",
        "The weightings reflect the priority of each operational goal, with safety being our highest priority.\n",
        "\n",
        "\n",
        "##### Calculation\n",
        "The operational score is calculated as follows:\n",
        "\n",
        "  ```python\n",
        "  operational_score = (\n",
        "      (df['driver_endurance_score'] * 20 +\n",
        "        df['driver_profitabilty_score'] * 40 +\n",
        "        df['driver_safety_adherence_score'] * 50 +\n",
        "        df['driving_efficiency_score'] * 30) / 100\n",
        "  )\n",
        "  ```\n",
        "\n",
        "#### 2. Recognition:\n",
        "**Recognition Score**: Reflects any special achievements or awards received by the driver. This score is scaled to a maximum of 100%. If a driver has special achievements, they receive a score of 100, otherwise 0.\n",
        "    \n",
        "  ```python\n",
        "  recognition_score = df['special_achievements_awarded'].apply(lambda x: 100 if x else 0)\n",
        "  ```\n",
        "\n",
        "#### 3. Customer Satisfaction:\n",
        "**Customer Satisfaction Score**: Based on customer ratings, this score is calculated as a weighted average of star ratings (from 1 to 5 stars), converted to a percentage and clipped between 0 and 100.\n",
        "    \n",
        "  ```python\n",
        "  customer_satisfaction_score = (\n",
        "      (df['number_of_1_star_ratings'] * 0.2 +\n",
        "        df['number_of_2_star_ratings'] * 0.4 +\n",
        "        df['number_of_3_star_ratings'] * 0.6 +\n",
        "        df['number_of_4_star_ratings'] * 0.8 +\n",
        "        df['number_of_5_star_ratings'] * 1.0) /\n",
        "      (df['number_of_1_star_ratings'] +\n",
        "        df['number_of_2_star_ratings'] +\n",
        "        df['number_of_3_star_ratings'] +\n",
        "        df['number_of_4_star_ratings'] +\n",
        "        df['number_of_5_star_ratings']) * 100\n",
        "  )\n",
        "  customer_satisfaction_score = customer_satisfaction_score.clip(lower=0, upper=100)\n",
        "  ```\n",
        "\n",
        "#### 4. Experience:\n",
        "**Experience Score**: This score is based on the driver's experience group and is scaled to a maximum of 100%.\n",
        "\n",
        "  ```python\n",
        "  experience_score = df['driver_experience_group'] * 10\n",
        "  ```\n",
        "\n",
        "### Combined Score Calculation\n",
        "The final combined score is an average of the four pillar scores. This score is used to rank the drivers.\n",
        "\n",
        "  ```python\n",
        "  df['combined_score'] = (operational_score + recognition_score + customer_satisfaction_score + experience_score) / 4\n",
        "  ```"
      ],
      "metadata": {
        "id": "iMsuKJljiTGU"
      }
    },
    {
      "cell_type": "markdown",
      "source": [
        "### Installs"
      ],
      "metadata": {
        "id": "BXEq7uTuiY4E"
      }
    },
    {
      "cell_type": "code",
      "source": [
        "!pip install datapane"
      ],
      "metadata": {
        "colab": {
          "base_uri": "https://localhost:8080/"
        },
        "id": "EBKBwK1TibTR",
        "outputId": "25877247-2bb9-4dc0-938f-73a017c1877a"
      },
      "execution_count": 1,
      "outputs": [
        {
          "output_type": "stream",
          "name": "stdout",
          "text": [
            "Requirement already satisfied: datapane in /usr/local/lib/python3.10/dist-packages (0.17.0)\n",
            "Requirement already satisfied: altair<6.0.0,>=5.0.0 in /usr/local/lib/python3.10/dist-packages (from datapane) (5.3.0)\n",
            "Requirement already satisfied: chardet<6.0.0,>=5.0.0 in /usr/local/lib/python3.10/dist-packages (from datapane) (5.2.0)\n",
            "Requirement already satisfied: colorlog<7.0.0,>=6.4.0 in /usr/local/lib/python3.10/dist-packages (from datapane) (6.8.2)\n",
            "Requirement already satisfied: dominate<3.0.0,>=2.7.0 in /usr/local/lib/python3.10/dist-packages (from datapane) (2.9.1)\n",
            "Requirement already satisfied: importlib_resources>=5.6.0 in /usr/local/lib/python3.10/dist-packages (from datapane) (6.4.0)\n",
            "Requirement already satisfied: ipynbname>=2021.3.2 in /usr/local/lib/python3.10/dist-packages (from datapane) (2024.1.0.0)\n",
            "Requirement already satisfied: lxml<5.0.0,>=4.7.1 in /usr/local/lib/python3.10/dist-packages (from datapane) (4.9.4)\n",
            "Requirement already satisfied: micawber>=0.5.3 in /usr/local/lib/python3.10/dist-packages (from datapane) (0.5.5)\n",
            "Requirement already satisfied: multimethod<2.0.0,>=1.9.0 in /usr/local/lib/python3.10/dist-packages (from datapane) (1.11.2)\n",
            "Requirement already satisfied: packaging<24.0.0,>=21.0.0 in /usr/local/lib/python3.10/dist-packages (from datapane) (23.2)\n",
            "Requirement already satisfied: pandas<2.0.0,>=1.4.0 in /usr/local/lib/python3.10/dist-packages (from datapane) (1.5.3)\n",
            "Requirement already satisfied: pyarrow>=9.0.0 in /usr/local/lib/python3.10/dist-packages (from datapane) (14.0.2)\n",
            "Requirement already satisfied: typing-extensions<5.0.0,>=4.4.0 in /usr/local/lib/python3.10/dist-packages (from datapane) (4.11.0)\n",
            "Requirement already satisfied: vega-datasets<1.0.0,>=0.9.0 in /usr/local/lib/python3.10/dist-packages (from datapane) (0.9.0)\n",
            "Requirement already satisfied: jinja2 in /usr/local/lib/python3.10/dist-packages (from altair<6.0.0,>=5.0.0->datapane) (3.1.4)\n",
            "Requirement already satisfied: jsonschema>=3.0 in /usr/local/lib/python3.10/dist-packages (from altair<6.0.0,>=5.0.0->datapane) (4.19.2)\n",
            "Requirement already satisfied: numpy in /usr/local/lib/python3.10/dist-packages (from altair<6.0.0,>=5.0.0->datapane) (1.25.2)\n",
            "Requirement already satisfied: toolz in /usr/local/lib/python3.10/dist-packages (from altair<6.0.0,>=5.0.0->datapane) (0.12.1)\n",
            "Requirement already satisfied: ipykernel in /usr/local/lib/python3.10/dist-packages (from ipynbname>=2021.3.2->datapane) (5.5.6)\n",
            "Requirement already satisfied: python-dateutil>=2.8.1 in /usr/local/lib/python3.10/dist-packages (from pandas<2.0.0,>=1.4.0->datapane) (2.8.2)\n",
            "Requirement already satisfied: pytz>=2020.1 in /usr/local/lib/python3.10/dist-packages (from pandas<2.0.0,>=1.4.0->datapane) (2023.4)\n",
            "Requirement already satisfied: attrs>=22.2.0 in /usr/local/lib/python3.10/dist-packages (from jsonschema>=3.0->altair<6.0.0,>=5.0.0->datapane) (23.2.0)\n",
            "Requirement already satisfied: jsonschema-specifications>=2023.03.6 in /usr/local/lib/python3.10/dist-packages (from jsonschema>=3.0->altair<6.0.0,>=5.0.0->datapane) (2023.12.1)\n",
            "Requirement already satisfied: referencing>=0.28.4 in /usr/local/lib/python3.10/dist-packages (from jsonschema>=3.0->altair<6.0.0,>=5.0.0->datapane) (0.35.1)\n",
            "Requirement already satisfied: rpds-py>=0.7.1 in /usr/local/lib/python3.10/dist-packages (from jsonschema>=3.0->altair<6.0.0,>=5.0.0->datapane) (0.18.1)\n",
            "Requirement already satisfied: six>=1.5 in /usr/local/lib/python3.10/dist-packages (from python-dateutil>=2.8.1->pandas<2.0.0,>=1.4.0->datapane) (1.16.0)\n",
            "Requirement already satisfied: ipython-genutils in /usr/local/lib/python3.10/dist-packages (from ipykernel->ipynbname>=2021.3.2->datapane) (0.2.0)\n",
            "Requirement already satisfied: ipython>=5.0.0 in /usr/local/lib/python3.10/dist-packages (from ipykernel->ipynbname>=2021.3.2->datapane) (7.34.0)\n",
            "Requirement already satisfied: traitlets>=4.1.0 in /usr/local/lib/python3.10/dist-packages (from ipykernel->ipynbname>=2021.3.2->datapane) (5.7.1)\n",
            "Requirement already satisfied: jupyter-client in /usr/local/lib/python3.10/dist-packages (from ipykernel->ipynbname>=2021.3.2->datapane) (6.1.12)\n",
            "Requirement already satisfied: tornado>=4.2 in /usr/local/lib/python3.10/dist-packages (from ipykernel->ipynbname>=2021.3.2->datapane) (6.3.3)\n",
            "Requirement already satisfied: MarkupSafe>=2.0 in /usr/local/lib/python3.10/dist-packages (from jinja2->altair<6.0.0,>=5.0.0->datapane) (2.1.5)\n",
            "Requirement already satisfied: setuptools>=18.5 in /usr/local/lib/python3.10/dist-packages (from ipython>=5.0.0->ipykernel->ipynbname>=2021.3.2->datapane) (67.7.2)\n",
            "Requirement already satisfied: jedi>=0.16 in /usr/local/lib/python3.10/dist-packages (from ipython>=5.0.0->ipykernel->ipynbname>=2021.3.2->datapane) (0.19.1)\n",
            "Requirement already satisfied: decorator in /usr/local/lib/python3.10/dist-packages (from ipython>=5.0.0->ipykernel->ipynbname>=2021.3.2->datapane) (4.4.2)\n",
            "Requirement already satisfied: pickleshare in /usr/local/lib/python3.10/dist-packages (from ipython>=5.0.0->ipykernel->ipynbname>=2021.3.2->datapane) (0.7.5)\n",
            "Requirement already satisfied: prompt-toolkit!=3.0.0,!=3.0.1,<3.1.0,>=2.0.0 in /usr/local/lib/python3.10/dist-packages (from ipython>=5.0.0->ipykernel->ipynbname>=2021.3.2->datapane) (3.0.43)\n",
            "Requirement already satisfied: pygments in /usr/local/lib/python3.10/dist-packages (from ipython>=5.0.0->ipykernel->ipynbname>=2021.3.2->datapane) (2.16.1)\n",
            "Requirement already satisfied: backcall in /usr/local/lib/python3.10/dist-packages (from ipython>=5.0.0->ipykernel->ipynbname>=2021.3.2->datapane) (0.2.0)\n",
            "Requirement already satisfied: matplotlib-inline in /usr/local/lib/python3.10/dist-packages (from ipython>=5.0.0->ipykernel->ipynbname>=2021.3.2->datapane) (0.1.7)\n",
            "Requirement already satisfied: pexpect>4.3 in /usr/local/lib/python3.10/dist-packages (from ipython>=5.0.0->ipykernel->ipynbname>=2021.3.2->datapane) (4.9.0)\n",
            "Requirement already satisfied: jupyter-core>=4.6.0 in /usr/local/lib/python3.10/dist-packages (from jupyter-client->ipykernel->ipynbname>=2021.3.2->datapane) (5.7.2)\n",
            "Requirement already satisfied: pyzmq>=13 in /usr/local/lib/python3.10/dist-packages (from jupyter-client->ipykernel->ipynbname>=2021.3.2->datapane) (24.0.1)\n",
            "Requirement already satisfied: parso<0.9.0,>=0.8.3 in /usr/local/lib/python3.10/dist-packages (from jedi>=0.16->ipython>=5.0.0->ipykernel->ipynbname>=2021.3.2->datapane) (0.8.4)\n",
            "Requirement already satisfied: platformdirs>=2.5 in /usr/local/lib/python3.10/dist-packages (from jupyter-core>=4.6.0->jupyter-client->ipykernel->ipynbname>=2021.3.2->datapane) (4.2.2)\n",
            "Requirement already satisfied: ptyprocess>=0.5 in /usr/local/lib/python3.10/dist-packages (from pexpect>4.3->ipython>=5.0.0->ipykernel->ipynbname>=2021.3.2->datapane) (0.7.0)\n",
            "Requirement already satisfied: wcwidth in /usr/local/lib/python3.10/dist-packages (from prompt-toolkit!=3.0.0,!=3.0.1,<3.1.0,>=2.0.0->ipython>=5.0.0->ipykernel->ipynbname>=2021.3.2->datapane) (0.2.13)\n"
          ]
        }
      ]
    },
    {
      "cell_type": "markdown",
      "source": [
        "### Imports"
      ],
      "metadata": {
        "id": "FlKivWYyRby9"
      }
    },
    {
      "cell_type": "code",
      "source": [
        "import pandas as pd\n",
        "import numpy as np\n",
        "import datapane as dp\n",
        "import matplotlib.pyplot as plt\n",
        "import os\n",
        "import matplotlib.cm as cm"
      ],
      "metadata": {
        "id": "ipCBQvWlRdpU"
      },
      "execution_count": 2,
      "outputs": []
    },
    {
      "cell_type": "markdown",
      "source": [
        "### Functions"
      ],
      "metadata": {
        "id": "-Zb0MbIcRzSL"
      }
    },
    {
      "cell_type": "code",
      "source": [
        "# Function to filter active drivers\n",
        "def filter_active_drivers(df):\n",
        "    \"\"\"\n",
        "    Filters the DataFrame to include only active drivers.\n",
        "\n",
        "    Parameters:\n",
        "    df (pd.DataFrame): The input DataFrame containing driver data.\n",
        "\n",
        "    Returns:\n",
        "    pd.DataFrame: A DataFrame with only active drivers.\n",
        "    \"\"\"\n",
        "\n",
        "    active_drivers = df[(df['deleted'] == False) & (df['disabled'] == False)]\n",
        "\n",
        "    return active_drivers"
      ],
      "metadata": {
        "id": "3GGrqnU4Rvr1"
      },
      "execution_count": 3,
      "outputs": []
    },
    {
      "cell_type": "code",
      "source": [
        "# Function to calculate the combined score\n",
        "\n",
        "def calculate_combined_score(df):\n",
        "    \"\"\"\n",
        "    Calculates the combined score for drivers based on multiple metrics, including operational metrics,\n",
        "    recognition, customer satisfaction, and driver experience.\n",
        "\n",
        "    Parameters:\n",
        "    df (pd.DataFrame): The input DataFrame containing driver data.\n",
        "\n",
        "    Returns:\n",
        "    pd.DataFrame: The DataFrame with an additional 'combined_score' column.\n",
        "    \"\"\"\n",
        "\n",
        "    # Operational metrics (weighted by priority)\n",
        "    # Converted normalized values to a percentage\n",
        "    operational_score = (\n",
        "        (df['driver_endurance_score'] * 20 +\n",
        "         df['driver_profitabilty_score'] * 40 +\n",
        "         df['driver_safety_adherence_score'] * 50 +\n",
        "         df['driving_efficiency_score'] * 30) / 100 )\n",
        "\n",
        "    # Recognition - soft skills\n",
        "    # Scale to a maximum score of 20 (representing 100%), then multiply by 5 to convert to a percentage\n",
        "    recognition_score = df['special_achievements_awarded'].apply(lambda x: 100 if x else 0)\n",
        "\n",
        "    # Customer satisfaction\n",
        "    # Calculate the weighted average of the star ratings and convert it to a percentage\n",
        "    customer_satisfaction_score = (\n",
        "        (df['number_of_1_star_ratings'] * 0.2 +\n",
        "        df['number_of_2_star_ratings'] * 0.4 +\n",
        "        df['number_of_3_star_ratings'] * 0.6 +\n",
        "        df['number_of_4_star_ratings'] * 0.8 +\n",
        "        df['number_of_5_star_ratings'] * 1.0)\n",
        "        /\n",
        "        (df['number_of_1_star_ratings'] +\n",
        "          df['number_of_2_star_ratings'] +\n",
        "          df['number_of_3_star_ratings'] +\n",
        "          df['number_of_4_star_ratings'] +\n",
        "          df['number_of_5_star_ratings'])\n",
        "        * 100\n",
        "    )\n",
        "\n",
        "    # Ensure customer satisfaction is represented as a percentage\n",
        "    # Clip values to ensure they are between 0 and 100\n",
        "    customer_satisfaction_score = customer_satisfaction_score.clip(lower=0, upper=100)\n",
        "\n",
        "    # Driver experience\n",
        "    # as a percentage\n",
        "    experience_score = (df['driver_experience_group']) * 10\n",
        "\n",
        "    # Combined score\n",
        "    # as a percentage\n",
        "    df['combined_score'] = (operational_score + recognition_score + customer_satisfaction_score + experience_score) / 4\n",
        "\n",
        "    # Other scores\n",
        "    df['operational_score'] = operational_score\n",
        "    df['recognition_score'] = recognition_score\n",
        "    df['customer_satisfaction_score'] = customer_satisfaction_score\n",
        "    df['experience_score'] = experience_score\n",
        "\n",
        "    return df"
      ],
      "metadata": {
        "id": "yFU3-DB6S2lh"
      },
      "execution_count": 4,
      "outputs": []
    },
    {
      "cell_type": "code",
      "source": [
        "# Function to convert scores to percentages\n",
        "def convert_to_percentage(df, columns):\n",
        "    for column in columns:\n",
        "        # Shift data to make all values positive\n",
        "        min_val = df[column].min()\n",
        "        df[column] = df[column] - min_val\n",
        "\n",
        "        # Determine the range\n",
        "        max_val = df[column].max()\n",
        "\n",
        "        # Normalize the data to 0-1 range\n",
        "        df[column] = df[column] / max_val\n",
        "\n",
        "        # Convert to percentage\n",
        "        df[column] = df[column] * 100\n",
        "\n",
        "    return df"
      ],
      "metadata": {
        "id": "2yycToiYOaUN"
      },
      "execution_count": 5,
      "outputs": []
    },
    {
      "cell_type": "code",
      "source": [
        "def get_top_n_drivers(df, n, sort_by):\n",
        "    \"\"\"\n",
        "    Returns the top n drivers based on the specified sorting column.\n",
        "\n",
        "    Parameters:\n",
        "    df (pd.DataFrame): The input DataFrame containing driver data.\n",
        "    n (int): The number of top drivers to return.\n",
        "    sort_by (str): The column name to sort by.\n",
        "\n",
        "    Returns:\n",
        "    pd.DataFrame: A DataFrame with the top n drivers.\n",
        "    \"\"\"\n",
        "\n",
        "    top_drivers = df.sort_values(by=sort_by, ascending=False).head(n)\n",
        "\n",
        "    return top_drivers"
      ],
      "metadata": {
        "id": "W8tVtt0nUrM8"
      },
      "execution_count": 6,
      "outputs": []
    },
    {
      "cell_type": "code",
      "source": [
        "# REUSED\n",
        "\n",
        "def rename_columns(df, column_mapping):\n",
        "    \"\"\"\n",
        "    Rename the columns of the DataFrame based on the provided mappings.\n",
        "\n",
        "    Parameters:\n",
        "    df (pd.DataFrame): The input DataFrame with original column names.\n",
        "\n",
        "    Returns:\n",
        "    pd.DataFrame: The DataFrame with renamed columns.\n",
        "\n",
        "    \"\"\"\n",
        "\n",
        "    # Rename the columns\n",
        "    df = df.rename(columns=column_mapping)\n",
        "\n",
        "    return df"
      ],
      "metadata": {
        "id": "R-fbniqoYGzC"
      },
      "execution_count": 7,
      "outputs": []
    },
    {
      "cell_type": "code",
      "source": [
        "# REUSED\n",
        "\n",
        "def reorder_columns(df, desired_columns_order):\n",
        "    \"\"\"\n",
        "    Reorder the columns of the DataFrame according to the desired order.\n",
        "\n",
        "    Parameters:\n",
        "        df (pandas.DataFrame): The DataFrame whose columns are to be reordered.\n",
        "        desired_columns_order (list): The desired order of columns.\n",
        "\n",
        "    Returns:\n",
        "        pandas.DataFrame: DataFrame with columns reordered according to the desired order.\n",
        "\n",
        "    \"\"\"\n",
        "    # Reorder the columns of the DataFrame\n",
        "    df = df.reindex(columns=desired_columns_order)\n",
        "\n",
        "    return df"
      ],
      "metadata": {
        "id": "FOxSeWAHZZIn"
      },
      "execution_count": 8,
      "outputs": []
    },
    {
      "cell_type": "code",
      "source": [
        "def save_plot_for_each_pillar(top_10_df, pillars):\n",
        "    \"\"\"\n",
        "    Generates and saves bar plots for each pillar score for the top 10 drivers.\n",
        "\n",
        "    Parameters:\n",
        "    top_10_df (pd.DataFrame): DataFrame containing the scores for the top 10 drivers.\n",
        "    pillars (list): List of column names representing the individual pillars.\n",
        "\n",
        "    Returns:\n",
        "    None\n",
        "    \"\"\"\n",
        "    for pillar in pillars:\n",
        "        # Define the width of the bars\n",
        "        bar_width = 0.4\n",
        "\n",
        "        # Set the index for the bars\n",
        "        index = np.arange(len(top_10_df))\n",
        "\n",
        "        # Create a figure and axis object\n",
        "        fig, ax = plt.subplots(figsize=(12, 8))\n",
        "\n",
        "        # Get a random colormap\n",
        "        colors = cm.get_cmap('tab20')(np.linspace(0, 1, len(top_10_df)))\n",
        "\n",
        "        # Plot the metric as a set of bars\n",
        "        ax.bar(index,\n",
        "               top_10_df[pillar],\n",
        "               bar_width,\n",
        "               label=pillar,\n",
        "               color=colors)\n",
        "\n",
        "        # Add value labels above each bar\n",
        "        for i, value in enumerate(top_10_df[pillar]):\n",
        "            ax.text(i, value + 0.1, str(round(value, 2)), ha='center', va='bottom')\n",
        "\n",
        "        # Set the x-axis ticks and labels\n",
        "        ax.set_xticks(index)\n",
        "        ax.set_xticklabels(top_10_df['Driver Full Name'], rotation=45, ha='right')  # Display driver's full name\n",
        "\n",
        "        # Add labels and legend\n",
        "        ax.set_xlabel('Drivers')\n",
        "        ax.set_ylabel('Score (%)')\n",
        "        ax.set_title(f'Top 10 Drivers by {pillar}')\n",
        "        ax.legend()\n",
        "\n",
        "        # Set a custom y-axis range for each set of bars\n",
        "        min_score = top_10_df[pillar].min()\n",
        "        max_score = top_10_df[pillar].max()\n",
        "        y_range = max_score - min_score\n",
        "\n",
        "        # Handle case where y_range is zero\n",
        "        if y_range == 0:\n",
        "            ax.set_ylim(min_score - 1, max_score + 1)\n",
        "        else:\n",
        "            ax.set_ylim(min_score - 0.1 * y_range, max_score + 0.1 * y_range)\n",
        "\n",
        "        # Save plot to disk\n",
        "        filename = os.path.join(\"./\", f'{pillar}_plot.png')\n",
        "        plt.tight_layout()  # Adjust layout to prevent clipping\n",
        "        plt.savefig(filename)\n",
        "\n",
        "        # Close plot to prevent memory leaks\n",
        "        plt.close()"
      ],
      "metadata": {
        "id": "cLXv6EtiixSt"
      },
      "execution_count": 9,
      "outputs": []
    },
    {
      "cell_type": "code",
      "source": [
        "def plot_driver_scores_all_pillars(top_10_df, pillars):\n",
        "    \"\"\"\n",
        "    Plots the scores for the top 10 drivers across all specified pillars and the overall combined score.\n",
        "\n",
        "    Parameters:\n",
        "    top_10_df (pd.DataFrame): DataFrame containing the scores for the top 10 drivers.\n",
        "    pillars (list): List of column names representing the individual pillars.\n",
        "\n",
        "    Returns:\n",
        "    plt: The generated plot.\n",
        "    \"\"\"\n",
        "    # Sort the DataFrame by the overall combined score\n",
        "    top_10_df = top_10_df.sort_values(by='Overall Combined (%)', ascending=False)\n",
        "\n",
        "    # Set the positions and width for the bars\n",
        "    bar_width = 0.2\n",
        "    gap = 0.2  # Gap between groups\n",
        "    index = np.arange(len(top_10_df)) * (len(pillars) + 1) * (bar_width + gap)\n",
        "\n",
        "    # Create a figure and axis object\n",
        "    fig, ax = plt.subplots(figsize=(14, 8))\n",
        "\n",
        "    # Generate random colors for the bars\n",
        "    colors = np.random.rand(len(pillars) + 1, 3)\n",
        "\n",
        "    # Plot each pillar as a separate set of bars\n",
        "    for i, pillar in enumerate(pillars):\n",
        "        ax.bar(index + bar_width * i, top_10_df[pillar], bar_width, label=pillar, color=colors[i])\n",
        "\n",
        "        # Add value labels above each bar\n",
        "        for j, value in enumerate(top_10_df[pillar]):\n",
        "            ax.text(index[j] + bar_width * i, value + 0.1, str(round(value, 2)), ha='center', va='bottom')\n",
        "\n",
        "    # Plot the combined score\n",
        "    combined_score_values = top_10_df['Overall Combined (%)']\n",
        "    combined_score_labels = [f'{round(value, 2)}' for value in combined_score_values]\n",
        "\n",
        "    combined_bars = ax.bar(index + bar_width * len(pillars), combined_score_values, bar_width, label='Overall Combined (%)', color=colors[-1])\n",
        "\n",
        "    # Add value labels above each combined score bar\n",
        "    for bar, label in zip(combined_bars, combined_score_labels):\n",
        "        height = bar.get_height()\n",
        "        ax.text(bar.get_x() + bar.get_width() / 2, height + 0.1, label, ha='center', va='bottom', color='black')\n",
        "\n",
        "    # Setting the x-axis labels\n",
        "    ax.set_xlabel('Drivers')\n",
        "    ax.set_ylabel('Scores (%)')\n",
        "    ax.set_title('Top 10 Active Drivers by Overall Combined Score and the Pillars of Excellence')\n",
        "    ax.set_xticks(index + bar_width * len(pillars) / 2)\n",
        "    ax.set_xticklabels(top_10_df['Driver Full Name'], rotation=45, ha='right')\n",
        "\n",
        "    # Adding legend\n",
        "    ax.legend()\n",
        "\n",
        "    # Set a flexible y-axis range to zoom in on subtle differences\n",
        "    min_score = min(top_10_df[pillars].values.min(), combined_score_values.min())\n",
        "    max_score = max(top_10_df[pillars].values.max(), combined_score_values.max())\n",
        "    y_range = max_score - min_score\n",
        "    ax.set_ylim(min_score - 0.1 * y_range, max_score + 0.1 * y_range)\n",
        "\n",
        "    # Adjust layout and save plot\n",
        "    plt.tight_layout()\n",
        "    plt.savefig('plot_driver_scores_all_pillars.png')\n",
        "    plt.show()\n",
        "    plt.close()\n",
        "\n",
        "    return plt\n",
        "\n"
      ],
      "metadata": {
        "id": "wmqvhSJDwu37"
      },
      "execution_count": 10,
      "outputs": []
    },
    {
      "cell_type": "code",
      "source": [
        "def plot_driver_scores_combined(top_10_df):\n",
        "    \"\"\"\n",
        "    Plots the overall combined score for the top 10 drivers.\n",
        "\n",
        "    Parameters:\n",
        "    top_10_df (pd.DataFrame): DataFrame containing the scores for the top 10 drivers.\n",
        "\n",
        "    Returns:\n",
        "    None\n",
        "    \"\"\"\n",
        "    # Sort the DataFrame by the overall combined score\n",
        "    top_10_df = top_10_df.sort_values(by='Overall Combined (%)', ascending=False)\n",
        "\n",
        "    # Set the positions and width for the bars\n",
        "    index = np.arange(len(top_10_df))\n",
        "    bar_width = 0.5\n",
        "\n",
        "    # Create a figure and axis object\n",
        "    fig, ax = plt.subplots(figsize=(14, 8))\n",
        "\n",
        "    # Get random colors for each bar\n",
        "    colors = np.random.rand(len(top_10_df), 3)\n",
        "\n",
        "    # Plot the combined score\n",
        "    combined_score_values = top_10_df['Overall Combined (%)']\n",
        "    combined_score_labels = [f'{round(value, 2)}' for value in combined_score_values]\n",
        "\n",
        "    bars = ax.bar(index, combined_score_values, bar_width, color=colors)\n",
        "\n",
        "    # Add value labels above each bar\n",
        "    for bar, label in zip(bars, combined_score_labels):\n",
        "        height = bar.get_height()\n",
        "        ax.text(bar.get_x() + bar.get_width() / 2, height + 0.1, label, ha='center', va='bottom')\n",
        "\n",
        "    # Set the x-axis ticks and labels\n",
        "    ax.set_xlabel('Drivers')\n",
        "    ax.set_ylabel('Scores (%)')\n",
        "    ax.set_title('Top 10 Active Drivers Overall Combined Score')\n",
        "    ax.set_xticks(index)\n",
        "    ax.set_xticklabels(top_10_df['Driver Full Name'], rotation=45, ha='right')\n",
        "\n",
        "    # Set a flexible y-axis range to zoom in on subtle differences\n",
        "    min_score = combined_score_values.min()\n",
        "    max_score = combined_score_values.max()\n",
        "    y_range = max_score - min_score\n",
        "    ax.set_ylim(min_score - 0.1 * y_range, max_score + 0.1 * y_range)\n",
        "\n",
        "    # Show plot\n",
        "    plt.tight_layout()\n",
        "    plt.savefig('plot_driver_scores_combined.png')\n",
        "    plt.show()\n",
        "    plt.close()\n",
        "\n",
        "    return plt"
      ],
      "metadata": {
        "id": "nkgu3vq4qlS6"
      },
      "execution_count": 11,
      "outputs": []
    },
    {
      "cell_type": "markdown",
      "source": [
        "### Data Structure Configurations"
      ],
      "metadata": {
        "id": "fQGVYn0CS98J"
      }
    },
    {
      "cell_type": "code",
      "source": [
        "# REUSED:\n",
        "\n",
        "# Define the desired order of columns\n",
        "desired_columns_order = [\n",
        "    'taxi_group_name', 'rank', 'full_name', 'vehicle_brand', 'driver_experience_group',\n",
        "    'special_achievements_awarded', 'driver_endurance_score', 'driver_profitabilty_score',\n",
        "    'driver_safety_adherence_score', 'driving_efficiency_score',\n",
        "    'number_of_1_star_ratings', 'number_of_2_star_ratings', 'number_of_3_star_ratings',\n",
        "    'number_of_4_star_ratings', 'number_of_5_star_ratings'\n",
        "]"
      ],
      "metadata": {
        "id": "P2OhvDLnZvVs"
      },
      "execution_count": 12,
      "outputs": []
    },
    {
      "cell_type": "code",
      "source": [
        "# REUSED:\n",
        "\n",
        "# Define the mapping from old column names to new column names\n",
        "column_mapping = {\n",
        "    'taxi_group_name': 'Taxi Group Name',\n",
        "    'rank': 'Taxi Division Rank',\n",
        "    'full_name': 'Driver Full Name',\n",
        "    'vehicle_brand': 'Vehicle Brand',\n",
        "    'driver_experience_group': 'Experience Group',\n",
        "    'special_achievements_awarded': 'Special Awards',\n",
        "    'driver_endurance_score': 'Endurance Score',\n",
        "    'driver_profitabilty_score': 'Profitability Score',\n",
        "    'driver_safety_adherence_score': 'Safety Score',\n",
        "    'driving_efficiency_score': 'Efficiency Score',\n",
        "    'number_of_1_star_ratings': '#of1Star Ratings',\n",
        "    'number_of_2_star_ratings': '#of2Star Ratings',\n",
        "    'number_of_3_star_ratings': '#of3Star Ratings',\n",
        "    'number_of_4_star_ratings': '#of4Star Ratings',\n",
        "    'number_of_5_star_ratings': '#of5Star Ratings'\n",
        "}"
      ],
      "metadata": {
        "id": "oSDCurYiVlAx"
      },
      "execution_count": 13,
      "outputs": []
    },
    {
      "cell_type": "code",
      "source": [
        "columns_to_convert = [\n",
        "    'driver_endurance_score',\n",
        "    'driver_profitabilty_score',\n",
        "    'driver_safety_adherence_score',\n",
        "    'driving_efficiency_score'\n",
        "]"
      ],
      "metadata": {
        "id": "2m2Qcr5bQxOg"
      },
      "execution_count": 14,
      "outputs": []
    },
    {
      "cell_type": "code",
      "source": [
        "pillars = [\n",
        "    'Operational (%)',\n",
        "    'Recognition (%)',\n",
        "    'Customer Satisfaction (%)',\n",
        "    'Experience Score (%)'\n",
        "]"
      ],
      "metadata": {
        "id": "lntDzRAjyipv"
      },
      "execution_count": 15,
      "outputs": []
    },
    {
      "cell_type": "code",
      "source": [
        "report_header = \"\"\"\n",
        "# 2a. Top 10 Active Drivers Awards\n",
        "\n",
        "## Introduction\n",
        "Welcome to the inaugural Top 10 Drivers Awards, our first year hosting this prestigious event. The competition has been incredibly fierce, with drivers separated by infinitesimal percentage points across each of our four pillars. To ensure transparency, let us explain our methodology behind the four pillars and why they are paramount in determining our top drivers.\n",
        "\"\"\""
      ],
      "metadata": {
        "id": "yB2N3sTch5H9"
      },
      "execution_count": 16,
      "outputs": []
    },
    {
      "cell_type": "code",
      "source": [
        "methodology = \"\"\"\n",
        "## Methodology\n",
        "### Pillars of Excellence\n",
        "The evaluation is based on four main pillars:\n",
        "\n",
        "#### 1. Operational Metrics:\n",
        "**Endurance Score**: Weighted at 20%. This score measures the driver's ability to maintain performance over long hours.\n",
        "\n",
        "**Profitability Score**: Weighted at 40%. This score assesses the financial efficiency and profitability of the driver.\n",
        "\n",
        "**Efficiency Score**: Weighted at 30%. This score gauges the driver's ability to complete trips efficiently.\n",
        "\n",
        "**Safety Score**: Weighted at 50%. This score evaluates the driver's adherence to safety protocols.\n",
        "\n",
        "##### Weightings\n",
        "The weightings reflect the priority of each operational goal, with safety being our highest priority.\n",
        "\n",
        "\n",
        "##### Calculation\n",
        "The operational score is calculated as follows:\n",
        "\n",
        "  ```python\n",
        "  operational_score = (\n",
        "      (df['driver_endurance_score'] * 20 +\n",
        "        df['driver_profitabilty_score'] * 40 +\n",
        "        df['driver_safety_adherence_score'] * 50 +\n",
        "        df['driving_efficiency_score'] * 30) / 100\n",
        "  )\n",
        "  ```\n",
        "\n",
        "#### 2. Recognition:\n",
        "**Recognition Score**: Reflects any special achievements or awards received by the driver. This score is scaled to a maximum of 100%. If a driver has special achievements, they receive a score of 100, otherwise 0.\n",
        "\n",
        "  ```python\n",
        "  recognition_score = df['special_achievements_awarded'].apply(lambda x: 100 if x else 0)\n",
        "  ```\n",
        "\n",
        "#### 3. Customer Satisfaction:\n",
        "**Customer Satisfaction Score**: Based on customer ratings, this score is calculated as a weighted average of star ratings (from 1 to 5 stars), converted to a percentage and clipped between 0 and 100.\n",
        "\n",
        "  ```python\n",
        "  customer_satisfaction_score = (\n",
        "      (df['number_of_1_star_ratings'] * 0.2 +\n",
        "        df['number_of_2_star_ratings'] * 0.4 +\n",
        "        df['number_of_3_star_ratings'] * 0.6 +\n",
        "        df['number_of_4_star_ratings'] * 0.8 +\n",
        "        df['number_of_5_star_ratings'] * 1.0) /\n",
        "      (df['number_of_1_star_ratings'] +\n",
        "        df['number_of_2_star_ratings'] +\n",
        "        df['number_of_3_star_ratings'] +\n",
        "        df['number_of_4_star_ratings'] +\n",
        "        df['number_of_5_star_ratings']) * 100\n",
        "  )\n",
        "  customer_satisfaction_score = customer_satisfaction_score.clip(lower=0, upper=100)\n",
        "  ```\n",
        "\n",
        "#### 4. Experience:\n",
        "**Experience Score**: This score is based on the driver's experience group and is scaled to a maximum of 100%.\n",
        "\n",
        "  ```python\n",
        "  experience_score = df['driver_experience_group'] * 10\n",
        "  ```\n",
        "\n",
        "### Combined Score Calculation\n",
        "The final combined score is an average of the four pillar scores. This score is used to rank the drivers.\n",
        "\n",
        "  ```python\n",
        "  df['combined_score'] = (operational_score + recognition_score + customer_satisfaction_score + experience_score) / 4\n",
        "  ```\n",
        "\"\"\""
      ],
      "metadata": {
        "id": "Qlryv_lZiKRU"
      },
      "execution_count": 17,
      "outputs": []
    },
    {
      "cell_type": "markdown",
      "source": [
        "### Execute"
      ],
      "metadata": {
        "id": "mSDcMdnbR3my"
      }
    },
    {
      "cell_type": "markdown",
      "source": [
        "#### Build the Result Set"
      ],
      "metadata": {
        "id": "tVKZSAWEWxqh"
      }
    },
    {
      "cell_type": "code",
      "source": [
        "# Load the data from the pickle file\n",
        "df = pd.read_pickle('data2.pkl')\n",
        "\n",
        "# Convert the specified columns to percentages\n",
        "df = convert_to_percentage(df, columns_to_convert)\n",
        "\n",
        "# Use the calculate_combined_score function to add the combined score to the DataFrame\n",
        "df = calculate_combined_score(df)\n",
        "\n",
        "# Use the filter_active_drivers function to get active drivers\n",
        "active_drivers = filter_active_drivers(df)\n",
        "\n",
        "# Get the top 10 active drivers based on the combined score\n",
        "top_10_drivers = get_top_n_drivers(active_drivers, 10, 'combined_score')"
      ],
      "metadata": {
        "id": "qn4-iHZNR_9k"
      },
      "execution_count": 18,
      "outputs": []
    },
    {
      "cell_type": "code",
      "source": [
        "# Align Column Names to Instructions ---\n",
        "\n",
        "# NOTES:\n",
        "# - Reusing previous column names configs + functions\n",
        "# - Could turn these steps into seperate step of functions for a seperate stage in pipeline (TODO)\n",
        "# - Impractical in this assignment exercise right now...\n",
        "\n",
        "# Append 'combined_score' to the desired columns order list\n",
        "desired_columns_order.append(\"combined_score\")\n",
        "desired_columns_order.append(\"operational_score\")\n",
        "desired_columns_order.append(\"recognition_score\")\n",
        "desired_columns_order.append(\"customer_satisfaction_score\")\n",
        "desired_columns_order.append(\"experience_score\")\n",
        "\n",
        "# Reorder columns to the desired order\n",
        "# Note: some fields are dropped\n",
        "top_10_drivers = reorder_columns(top_10_drivers, desired_columns_order)\n",
        "\n",
        "# Append new mapping for \"combined_score\"\n",
        "column_mapping['combined_score'] = 'Overall Combined (%)'\n",
        "column_mapping['operational_score'] = 'Operational (%)'\n",
        "column_mapping['recognition_score'] = 'Recognition (%)'\n",
        "column_mapping['customer_satisfaction_score'] = 'Customer Satisfaction (%)'\n",
        "column_mapping['experience_score'] = 'Experience Score (%)'\n",
        "\n",
        "# Rename columns to the desired names\n",
        "top_10_drivers = rename_columns(top_10_drivers, column_mapping)\n",
        "\n"
      ],
      "metadata": {
        "id": "tDCrJ4j8Z_IO"
      },
      "execution_count": 19,
      "outputs": []
    },
    {
      "cell_type": "code",
      "source": [
        "top_10_drivers.head()\n",
        "top_10_drivers.loc[:,['Driver Full Name',\n",
        "                      'Overall Combined (%)',\n",
        "                      'Operational (%)',\n",
        "                      'Recognition (%)',\n",
        "                      'Customer Satisfaction (%)',\n",
        "                      'Experience Score (%)']].head(10)\n"
      ],
      "metadata": {
        "colab": {
          "base_uri": "https://localhost:8080/",
          "height": 380
        },
        "id": "VcWYrKrsbPVE",
        "outputId": "7ee79d74-0777-43c0-d20e-f24abb191e0b"
      },
      "execution_count": 20,
      "outputs": [
        {
          "output_type": "execute_result",
          "data": {
            "text/plain": [
              "      Driver Full Name  Overall Combined (%)  Operational (%)  \\\n",
              "109      Jessica Burns             80.655947        73.532879   \n",
              "2346         Karen Fry             80.652296        73.251385   \n",
              "4706      Emily Wilson             80.584843        72.865690   \n",
              "33428     Glen Hopkins             80.506804        72.904408   \n",
              "43859    Yvonne Palmer             80.403985        73.297357   \n",
              "39916    Matthew White             80.397617        73.733323   \n",
              "26361    Carly Edwards             80.344942        72.134485   \n",
              "24955   Jeffrey French             80.340744        72.791547   \n",
              "9109       Jayne Jones             80.309997        72.489989   \n",
              "33461    Karl Williams             80.301550        73.098092   \n",
              "\n",
              "       Recognition (%)  Customer Satisfaction (%)  Experience Score (%)  \n",
              "109                100                  89.090909                    60  \n",
              "2346               100                  89.357798                    60  \n",
              "4706               100                  89.473684                    60  \n",
              "33428              100                  89.122807                    60  \n",
              "43859              100                  88.318584                    60  \n",
              "39916              100                  87.857143                    60  \n",
              "26361              100                  89.245283                    60  \n",
              "24955              100                  88.571429                    60  \n",
              "9109               100                  88.750000                    60  \n",
              "33461              100                  88.108108                    60  "
            ],
            "text/html": [
              "\n",
              "  <div id=\"df-07744915-407f-47f0-a05b-c1fefd242e41\" class=\"colab-df-container\">\n",
              "    <div>\n",
              "<style scoped>\n",
              "    .dataframe tbody tr th:only-of-type {\n",
              "        vertical-align: middle;\n",
              "    }\n",
              "\n",
              "    .dataframe tbody tr th {\n",
              "        vertical-align: top;\n",
              "    }\n",
              "\n",
              "    .dataframe thead th {\n",
              "        text-align: right;\n",
              "    }\n",
              "</style>\n",
              "<table border=\"1\" class=\"dataframe\">\n",
              "  <thead>\n",
              "    <tr style=\"text-align: right;\">\n",
              "      <th></th>\n",
              "      <th>Driver Full Name</th>\n",
              "      <th>Overall Combined (%)</th>\n",
              "      <th>Operational (%)</th>\n",
              "      <th>Recognition (%)</th>\n",
              "      <th>Customer Satisfaction (%)</th>\n",
              "      <th>Experience Score (%)</th>\n",
              "    </tr>\n",
              "  </thead>\n",
              "  <tbody>\n",
              "    <tr>\n",
              "      <th>109</th>\n",
              "      <td>Jessica Burns</td>\n",
              "      <td>80.655947</td>\n",
              "      <td>73.532879</td>\n",
              "      <td>100</td>\n",
              "      <td>89.090909</td>\n",
              "      <td>60</td>\n",
              "    </tr>\n",
              "    <tr>\n",
              "      <th>2346</th>\n",
              "      <td>Karen Fry</td>\n",
              "      <td>80.652296</td>\n",
              "      <td>73.251385</td>\n",
              "      <td>100</td>\n",
              "      <td>89.357798</td>\n",
              "      <td>60</td>\n",
              "    </tr>\n",
              "    <tr>\n",
              "      <th>4706</th>\n",
              "      <td>Emily Wilson</td>\n",
              "      <td>80.584843</td>\n",
              "      <td>72.865690</td>\n",
              "      <td>100</td>\n",
              "      <td>89.473684</td>\n",
              "      <td>60</td>\n",
              "    </tr>\n",
              "    <tr>\n",
              "      <th>33428</th>\n",
              "      <td>Glen Hopkins</td>\n",
              "      <td>80.506804</td>\n",
              "      <td>72.904408</td>\n",
              "      <td>100</td>\n",
              "      <td>89.122807</td>\n",
              "      <td>60</td>\n",
              "    </tr>\n",
              "    <tr>\n",
              "      <th>43859</th>\n",
              "      <td>Yvonne Palmer</td>\n",
              "      <td>80.403985</td>\n",
              "      <td>73.297357</td>\n",
              "      <td>100</td>\n",
              "      <td>88.318584</td>\n",
              "      <td>60</td>\n",
              "    </tr>\n",
              "    <tr>\n",
              "      <th>39916</th>\n",
              "      <td>Matthew White</td>\n",
              "      <td>80.397617</td>\n",
              "      <td>73.733323</td>\n",
              "      <td>100</td>\n",
              "      <td>87.857143</td>\n",
              "      <td>60</td>\n",
              "    </tr>\n",
              "    <tr>\n",
              "      <th>26361</th>\n",
              "      <td>Carly Edwards</td>\n",
              "      <td>80.344942</td>\n",
              "      <td>72.134485</td>\n",
              "      <td>100</td>\n",
              "      <td>89.245283</td>\n",
              "      <td>60</td>\n",
              "    </tr>\n",
              "    <tr>\n",
              "      <th>24955</th>\n",
              "      <td>Jeffrey French</td>\n",
              "      <td>80.340744</td>\n",
              "      <td>72.791547</td>\n",
              "      <td>100</td>\n",
              "      <td>88.571429</td>\n",
              "      <td>60</td>\n",
              "    </tr>\n",
              "    <tr>\n",
              "      <th>9109</th>\n",
              "      <td>Jayne Jones</td>\n",
              "      <td>80.309997</td>\n",
              "      <td>72.489989</td>\n",
              "      <td>100</td>\n",
              "      <td>88.750000</td>\n",
              "      <td>60</td>\n",
              "    </tr>\n",
              "    <tr>\n",
              "      <th>33461</th>\n",
              "      <td>Karl Williams</td>\n",
              "      <td>80.301550</td>\n",
              "      <td>73.098092</td>\n",
              "      <td>100</td>\n",
              "      <td>88.108108</td>\n",
              "      <td>60</td>\n",
              "    </tr>\n",
              "  </tbody>\n",
              "</table>\n",
              "</div>\n",
              "    <div class=\"colab-df-buttons\">\n",
              "\n",
              "  <div class=\"colab-df-container\">\n",
              "    <button class=\"colab-df-convert\" onclick=\"convertToInteractive('df-07744915-407f-47f0-a05b-c1fefd242e41')\"\n",
              "            title=\"Convert this dataframe to an interactive table.\"\n",
              "            style=\"display:none;\">\n",
              "\n",
              "  <svg xmlns=\"http://www.w3.org/2000/svg\" height=\"24px\" viewBox=\"0 -960 960 960\">\n",
              "    <path d=\"M120-120v-720h720v720H120Zm60-500h600v-160H180v160Zm220 220h160v-160H400v160Zm0 220h160v-160H400v160ZM180-400h160v-160H180v160Zm440 0h160v-160H620v160ZM180-180h160v-160H180v160Zm440 0h160v-160H620v160Z\"/>\n",
              "  </svg>\n",
              "    </button>\n",
              "\n",
              "  <style>\n",
              "    .colab-df-container {\n",
              "      display:flex;\n",
              "      gap: 12px;\n",
              "    }\n",
              "\n",
              "    .colab-df-convert {\n",
              "      background-color: #E8F0FE;\n",
              "      border: none;\n",
              "      border-radius: 50%;\n",
              "      cursor: pointer;\n",
              "      display: none;\n",
              "      fill: #1967D2;\n",
              "      height: 32px;\n",
              "      padding: 0 0 0 0;\n",
              "      width: 32px;\n",
              "    }\n",
              "\n",
              "    .colab-df-convert:hover {\n",
              "      background-color: #E2EBFA;\n",
              "      box-shadow: 0px 1px 2px rgba(60, 64, 67, 0.3), 0px 1px 3px 1px rgba(60, 64, 67, 0.15);\n",
              "      fill: #174EA6;\n",
              "    }\n",
              "\n",
              "    .colab-df-buttons div {\n",
              "      margin-bottom: 4px;\n",
              "    }\n",
              "\n",
              "    [theme=dark] .colab-df-convert {\n",
              "      background-color: #3B4455;\n",
              "      fill: #D2E3FC;\n",
              "    }\n",
              "\n",
              "    [theme=dark] .colab-df-convert:hover {\n",
              "      background-color: #434B5C;\n",
              "      box-shadow: 0px 1px 3px 1px rgba(0, 0, 0, 0.15);\n",
              "      filter: drop-shadow(0px 1px 2px rgba(0, 0, 0, 0.3));\n",
              "      fill: #FFFFFF;\n",
              "    }\n",
              "  </style>\n",
              "\n",
              "    <script>\n",
              "      const buttonEl =\n",
              "        document.querySelector('#df-07744915-407f-47f0-a05b-c1fefd242e41 button.colab-df-convert');\n",
              "      buttonEl.style.display =\n",
              "        google.colab.kernel.accessAllowed ? 'block' : 'none';\n",
              "\n",
              "      async function convertToInteractive(key) {\n",
              "        const element = document.querySelector('#df-07744915-407f-47f0-a05b-c1fefd242e41');\n",
              "        const dataTable =\n",
              "          await google.colab.kernel.invokeFunction('convertToInteractive',\n",
              "                                                    [key], {});\n",
              "        if (!dataTable) return;\n",
              "\n",
              "        const docLinkHtml = 'Like what you see? Visit the ' +\n",
              "          '<a target=\"_blank\" href=https://colab.research.google.com/notebooks/data_table.ipynb>data table notebook</a>'\n",
              "          + ' to learn more about interactive tables.';\n",
              "        element.innerHTML = '';\n",
              "        dataTable['output_type'] = 'display_data';\n",
              "        await google.colab.output.renderOutput(dataTable, element);\n",
              "        const docLink = document.createElement('div');\n",
              "        docLink.innerHTML = docLinkHtml;\n",
              "        element.appendChild(docLink);\n",
              "      }\n",
              "    </script>\n",
              "  </div>\n",
              "\n",
              "\n",
              "<div id=\"df-4173bb6e-ac45-4492-b4d4-c0f21e25c1d0\">\n",
              "  <button class=\"colab-df-quickchart\" onclick=\"quickchart('df-4173bb6e-ac45-4492-b4d4-c0f21e25c1d0')\"\n",
              "            title=\"Suggest charts\"\n",
              "            style=\"display:none;\">\n",
              "\n",
              "<svg xmlns=\"http://www.w3.org/2000/svg\" height=\"24px\"viewBox=\"0 0 24 24\"\n",
              "     width=\"24px\">\n",
              "    <g>\n",
              "        <path d=\"M19 3H5c-1.1 0-2 .9-2 2v14c0 1.1.9 2 2 2h14c1.1 0 2-.9 2-2V5c0-1.1-.9-2-2-2zM9 17H7v-7h2v7zm4 0h-2V7h2v10zm4 0h-2v-4h2v4z\"/>\n",
              "    </g>\n",
              "</svg>\n",
              "  </button>\n",
              "\n",
              "<style>\n",
              "  .colab-df-quickchart {\n",
              "      --bg-color: #E8F0FE;\n",
              "      --fill-color: #1967D2;\n",
              "      --hover-bg-color: #E2EBFA;\n",
              "      --hover-fill-color: #174EA6;\n",
              "      --disabled-fill-color: #AAA;\n",
              "      --disabled-bg-color: #DDD;\n",
              "  }\n",
              "\n",
              "  [theme=dark] .colab-df-quickchart {\n",
              "      --bg-color: #3B4455;\n",
              "      --fill-color: #D2E3FC;\n",
              "      --hover-bg-color: #434B5C;\n",
              "      --hover-fill-color: #FFFFFF;\n",
              "      --disabled-bg-color: #3B4455;\n",
              "      --disabled-fill-color: #666;\n",
              "  }\n",
              "\n",
              "  .colab-df-quickchart {\n",
              "    background-color: var(--bg-color);\n",
              "    border: none;\n",
              "    border-radius: 50%;\n",
              "    cursor: pointer;\n",
              "    display: none;\n",
              "    fill: var(--fill-color);\n",
              "    height: 32px;\n",
              "    padding: 0;\n",
              "    width: 32px;\n",
              "  }\n",
              "\n",
              "  .colab-df-quickchart:hover {\n",
              "    background-color: var(--hover-bg-color);\n",
              "    box-shadow: 0 1px 2px rgba(60, 64, 67, 0.3), 0 1px 3px 1px rgba(60, 64, 67, 0.15);\n",
              "    fill: var(--button-hover-fill-color);\n",
              "  }\n",
              "\n",
              "  .colab-df-quickchart-complete:disabled,\n",
              "  .colab-df-quickchart-complete:disabled:hover {\n",
              "    background-color: var(--disabled-bg-color);\n",
              "    fill: var(--disabled-fill-color);\n",
              "    box-shadow: none;\n",
              "  }\n",
              "\n",
              "  .colab-df-spinner {\n",
              "    border: 2px solid var(--fill-color);\n",
              "    border-color: transparent;\n",
              "    border-bottom-color: var(--fill-color);\n",
              "    animation:\n",
              "      spin 1s steps(1) infinite;\n",
              "  }\n",
              "\n",
              "  @keyframes spin {\n",
              "    0% {\n",
              "      border-color: transparent;\n",
              "      border-bottom-color: var(--fill-color);\n",
              "      border-left-color: var(--fill-color);\n",
              "    }\n",
              "    20% {\n",
              "      border-color: transparent;\n",
              "      border-left-color: var(--fill-color);\n",
              "      border-top-color: var(--fill-color);\n",
              "    }\n",
              "    30% {\n",
              "      border-color: transparent;\n",
              "      border-left-color: var(--fill-color);\n",
              "      border-top-color: var(--fill-color);\n",
              "      border-right-color: var(--fill-color);\n",
              "    }\n",
              "    40% {\n",
              "      border-color: transparent;\n",
              "      border-right-color: var(--fill-color);\n",
              "      border-top-color: var(--fill-color);\n",
              "    }\n",
              "    60% {\n",
              "      border-color: transparent;\n",
              "      border-right-color: var(--fill-color);\n",
              "    }\n",
              "    80% {\n",
              "      border-color: transparent;\n",
              "      border-right-color: var(--fill-color);\n",
              "      border-bottom-color: var(--fill-color);\n",
              "    }\n",
              "    90% {\n",
              "      border-color: transparent;\n",
              "      border-bottom-color: var(--fill-color);\n",
              "    }\n",
              "  }\n",
              "</style>\n",
              "\n",
              "  <script>\n",
              "    async function quickchart(key) {\n",
              "      const quickchartButtonEl =\n",
              "        document.querySelector('#' + key + ' button');\n",
              "      quickchartButtonEl.disabled = true;  // To prevent multiple clicks.\n",
              "      quickchartButtonEl.classList.add('colab-df-spinner');\n",
              "      try {\n",
              "        const charts = await google.colab.kernel.invokeFunction(\n",
              "            'suggestCharts', [key], {});\n",
              "      } catch (error) {\n",
              "        console.error('Error during call to suggestCharts:', error);\n",
              "      }\n",
              "      quickchartButtonEl.classList.remove('colab-df-spinner');\n",
              "      quickchartButtonEl.classList.add('colab-df-quickchart-complete');\n",
              "    }\n",
              "    (() => {\n",
              "      let quickchartButtonEl =\n",
              "        document.querySelector('#df-4173bb6e-ac45-4492-b4d4-c0f21e25c1d0 button');\n",
              "      quickchartButtonEl.style.display =\n",
              "        google.colab.kernel.accessAllowed ? 'block' : 'none';\n",
              "    })();\n",
              "  </script>\n",
              "</div>\n",
              "    </div>\n",
              "  </div>\n"
            ],
            "application/vnd.google.colaboratory.intrinsic+json": {
              "type": "dataframe",
              "summary": "{\n  \"name\": \"                      'Experience Score (%)']]\",\n  \"rows\": 10,\n  \"fields\": [\n    {\n      \"column\": \"Driver Full Name\",\n      \"properties\": {\n        \"dtype\": \"string\",\n        \"num_unique_values\": 10,\n        \"samples\": [\n          \"Jayne Jones\",\n          \"Karen Fry\",\n          \"Matthew White\"\n        ],\n        \"semantic_type\": \"\",\n        \"description\": \"\"\n      }\n    },\n    {\n      \"column\": \"Overall Combined (%)\",\n      \"properties\": {\n        \"dtype\": \"number\",\n        \"std\": 0.13913250118226309,\n        \"min\": 80.30155003711728,\n        \"max\": 80.65594701882259,\n        \"num_unique_values\": 10,\n        \"samples\": [\n          80.30999716385173,\n          80.65229568679503,\n          80.39761655651336\n        ],\n        \"semantic_type\": \"\",\n        \"description\": \"\"\n      }\n    },\n    {\n      \"column\": \"Operational (%)\",\n      \"properties\": {\n        \"dtype\": \"number\",\n        \"std\": 0.4786363855561293,\n        \"min\": 72.13448487290583,\n        \"max\": 73.73332336891052,\n        \"num_unique_values\": 10,\n        \"samples\": [\n          72.48998865540693,\n          73.2513845820425,\n          73.73332336891052\n        ],\n        \"semantic_type\": \"\",\n        \"description\": \"\"\n      }\n    },\n    {\n      \"column\": \"Recognition (%)\",\n      \"properties\": {\n        \"dtype\": \"number\",\n        \"std\": 0,\n        \"min\": 100,\n        \"max\": 100,\n        \"num_unique_values\": 1,\n        \"samples\": [\n          100\n        ],\n        \"semantic_type\": \"\",\n        \"description\": \"\"\n      }\n    },\n    {\n      \"column\": \"Customer Satisfaction (%)\",\n      \"properties\": {\n        \"dtype\": \"number\",\n        \"std\": 0.558292228709608,\n        \"min\": 87.85714285714286,\n        \"max\": 89.47368421052632,\n        \"num_unique_values\": 10,\n        \"samples\": [\n          88.75\n        ],\n        \"semantic_type\": \"\",\n        \"description\": \"\"\n      }\n    },\n    {\n      \"column\": \"Experience Score (%)\",\n      \"properties\": {\n        \"dtype\": \"number\",\n        \"std\": 0,\n        \"min\": 60,\n        \"max\": 60,\n        \"num_unique_values\": 1,\n        \"samples\": [\n          60\n        ],\n        \"semantic_type\": \"\",\n        \"description\": \"\"\n      }\n    }\n  ]\n}"
            }
          },
          "metadata": {},
          "execution_count": 20
        }
      ]
    },
    {
      "cell_type": "code",
      "source": [
        "# Sort top_10_df by 'Overall Combined (%)'\n",
        "top_10_drivers = top_10_drivers.sort_values(by='Overall Combined (%)', ascending=False)\n",
        ""
      ],
      "metadata": {
        "id": "dOYbNwE0yIeR"
      },
      "execution_count": 21,
      "outputs": []
    },
    {
      "cell_type": "markdown",
      "source": [
        "#### Generate Report"
      ],
      "metadata": {
        "id": "YxsR6EKPiuUW"
      }
    },
    {
      "cell_type": "code",
      "source": [
        "save_plot_for_each_pillar(top_10_drivers, pillars)"
      ],
      "metadata": {
        "colab": {
          "base_uri": "https://localhost:8080/"
        },
        "id": "IP0MKSCFkmUc",
        "outputId": "79d7a43b-c7df-49de-d895-5774e1b6b1fc"
      },
      "execution_count": 22,
      "outputs": [
        {
          "output_type": "stream",
          "name": "stderr",
          "text": [
            "<ipython-input-9-bc860484886c>:23: MatplotlibDeprecationWarning: The get_cmap function was deprecated in Matplotlib 3.7 and will be removed two minor releases later. Use ``matplotlib.colormaps[name]`` or ``matplotlib.colormaps.get_cmap(obj)`` instead.\n",
            "  colors = cm.get_cmap('tab20')(np.linspace(0, 1, len(top_10_df)))\n"
          ]
        }
      ]
    },
    {
      "cell_type": "code",
      "source": [
        "plot_driver_scores_all_pillars(top_10_drivers, pillars)"
      ],
      "metadata": {
        "colab": {
          "base_uri": "https://localhost:8080/",
          "height": 612
        },
        "id": "irfhmNzHm65c",
        "outputId": "c6029e19-8a10-407c-b9cc-002b6d729867"
      },
      "execution_count": 23,
      "outputs": [
        {
          "output_type": "display_data",
          "data": {
            "text/plain": [
              "<Figure size 1400x800 with 1 Axes>"
            ],
            "image/png": "[encoded data removed]"
          },
          "metadata": {}
        },
        {
          "output_type": "execute_result",
          "data": {
            "text/plain": [
              "<module 'matplotlib.pyplot' from '/usr/local/lib/python3.10/dist-packages/matplotlib/pyplot.py'>"
            ]
          },
          "metadata": {},
          "execution_count": 23
        }
      ]
    },
    {
      "cell_type": "code",
      "source": [
        "plot_driver_scores_combined(top_10_drivers)"
      ],
      "metadata": {
        "colab": {
          "base_uri": "https://localhost:8080/",
          "height": 604
        },
        "id": "lD6T8f7RrDq-",
        "outputId": "c85072d7-65b4-4234-ddfb-a473cb531281"
      },
      "execution_count": 24,
      "outputs": [
        {
          "output_type": "display_data",
          "data": {
            "text/plain": [
              "<Figure size 1400x800 with 1 Axes>"
            ],
            "image/png": "[encoded data removed]"
          },
          "metadata": {}
        },
        {
          "output_type": "execute_result",
          "data": {
            "text/plain": [
              "<module 'matplotlib.pyplot' from '/usr/local/lib/python3.10/dist-packages/matplotlib/pyplot.py'>"
            ]
          },
          "metadata": {},
          "execution_count": 24
        }
      ]
    },
    {
      "cell_type": "code",
      "source": [
        "report = dp.Report(\n",
        "    dp.Text(report_header),\n",
        "    dp.Text(methodology),\n",
        "    dp.Text(\"## Data Table\"),\n",
        "    dp.DataTable(top_10_drivers),\n",
        "    dp.Text(\"## Top 10 Active Drivers Overall Combined Score\"),\n",
        "    dp.Media(file=\"plot_driver_scores_combined.png\"),\n",
        "    dp.Text(\"## Top 10 Active Drivers by Overall Combined Score and the Pillars of Excellence\"),\n",
        "    dp.Media(file=\"plot_driver_scores_all_pillars.png\"),\n",
        "    dp.Text(\"## Customer Satisfaction (%)\"),\n",
        "    dp.Media(file=\"Customer Satisfaction (%)_plot.png\"),\n",
        "    dp.Text(\"## Experience Score (%)\"),\n",
        "    dp.Media(file=\"Experience Score (%)_plot.png\"),\n",
        "    dp.Text(\"## Operational (%)\"),\n",
        "    dp.Media(file=\"Operational (%)_plot.png\"),\n",
        "    dp.Text(\"## Recognition (%)\"),\n",
        "    dp.Media(file=\"Recognition (%)_plot.png\")\n",
        ")"
      ],
      "metadata": {
        "id": "HN7mD1oTw3fE"
      },
      "execution_count": 25,
      "outputs": []
    },
    {
      "cell_type": "code",
      "source": [
        "# Save the report locally\n",
        "dp.save_report(report, path=\"2a_report_top_10_active_drivers.html\", open=True)\n"
      ],
      "metadata": {
        "colab": {
          "base_uri": "https://localhost:8080/",
          "height": 102
        },
        "id": "E5pHBj_-1-ZD",
        "outputId": "dcb10b6e-21b5-4b91-be3d-c466f75012f4"
      },
      "execution_count": 26,
      "outputs": [
        {
          "output_type": "stream",
          "name": "stderr",
          "text": [
            "/usr/local/lib/python3.10/dist-packages/datapane/common/df_processor.py:26: FutureWarning: pandas.Int64Index is deprecated and will be removed from pandas in a future version. Use pandas.Index with the appropriate dtype instead.\n",
            "  elif isinstance(df.index, pd.Int64Index):\n"
          ]
        },
        {
          "output_type": "display_data",
          "data": {
            "text/plain": [
              "<IPython.core.display.Markdown object>"
            ],
            "text/markdown": "App saved to ./2a_report_top_10_active_drivers.html"
          },
          "metadata": {}
        }
      ]
    }
  ]
}