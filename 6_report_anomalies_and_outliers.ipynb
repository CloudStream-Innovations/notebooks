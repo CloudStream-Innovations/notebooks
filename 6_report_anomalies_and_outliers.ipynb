{
  "nbformat": 4,
  "nbformat_minor": 0,
  "metadata": {
    "colab": {
      "provenance": []
    },
    "kernelspec": {
      "name": "python3",
      "display_name": "Python 3"
    },
    "language_info": {
      "name": "python"
    }
  },
  "cells": [
    {
      "cell_type": "markdown",
      "source": [
        "# 2b. Anomalies and Outliers Report\n",
        "\n",
        "## Overview\n",
        "This Jupyter notebook presents a report on anomalies and outliers detected in driver performance metrics. The report is generated based on a dataset containing various performance indicators for taxi drivers. By identifying anomalies, it aims to provide insights into potential issues or exceptional cases within the dataset.\n",
        "\n",
        "## Description\n",
        "The report includes a detailed analysis of driver performance metrics such as endurance score, profitability score, safety adherence score, and efficiency score. It also highlights percentile values for each metric, enabling users to compare individual driver scores with the dataset's overall distribution. Additionally, the report features a \"sanity check\" column to confirm the presence of anomalies based on predefined percentile thresholds.\n",
        "\n",
        "## Purpose\n",
        "The purpose of this report is to facilitate data-driven decision-making by offering visibility into outliers and anomalies in driver performance metrics. By flagging potential issues or exceptional cases, it helps stakeholders identify areas for further investigation or improvement. Ultimately, the report contributes to enhancing the quality and reliability of decision-making processes within the taxi service domain."
      ],
      "metadata": {
        "id": "njwBPsZYqaER"
      }
    },
    {
      "cell_type": "markdown",
      "source": [
        "### Installs"
      ],
      "metadata": {
        "id": "ags0Wr7TnT4q"
      }
    },
    {
      "cell_type": "code",
      "source": [
        "!pip install datapane"
      ],
      "metadata": {
        "colab": {
          "base_uri": "https://localhost:8080/"
        },
        "id": "ik1I2-vWlsHn",
        "outputId": "ab0fe15c-235d-44c2-82d5-e54d6a8b7922"
      },
      "execution_count": 1,
      "outputs": [
        {
          "output_type": "stream",
          "name": "stdout",
          "text": [
            "Requirement already satisfied: datapane in /usr/local/lib/python3.10/dist-packages (0.17.0)\n",
            "Requirement already satisfied: altair<6.0.0,>=5.0.0 in /usr/local/lib/python3.10/dist-packages (from datapane) (5.3.0)\n",
            "Requirement already satisfied: chardet<6.0.0,>=5.0.0 in /usr/local/lib/python3.10/dist-packages (from datapane) (5.2.0)\n",
            "Requirement already satisfied: colorlog<7.0.0,>=6.4.0 in /usr/local/lib/python3.10/dist-packages (from datapane) (6.8.2)\n",
            "Requirement already satisfied: dominate<3.0.0,>=2.7.0 in /usr/local/lib/python3.10/dist-packages (from datapane) (2.9.1)\n",
            "Requirement already satisfied: importlib_resources>=5.6.0 in /usr/local/lib/python3.10/dist-packages (from datapane) (6.4.0)\n",
            "Requirement already satisfied: ipynbname>=2021.3.2 in /usr/local/lib/python3.10/dist-packages (from datapane) (2024.1.0.0)\n",
            "Requirement already satisfied: lxml<5.0.0,>=4.7.1 in /usr/local/lib/python3.10/dist-packages (from datapane) (4.9.4)\n",
            "Requirement already satisfied: micawber>=0.5.3 in /usr/local/lib/python3.10/dist-packages (from datapane) (0.5.5)\n",
            "Requirement already satisfied: multimethod<2.0.0,>=1.9.0 in /usr/local/lib/python3.10/dist-packages (from datapane) (1.11.2)\n",
            "Requirement already satisfied: packaging<24.0.0,>=21.0.0 in /usr/local/lib/python3.10/dist-packages (from datapane) (23.2)\n",
            "Requirement already satisfied: pandas<2.0.0,>=1.4.0 in /usr/local/lib/python3.10/dist-packages (from datapane) (1.5.3)\n",
            "Requirement already satisfied: pyarrow>=9.0.0 in /usr/local/lib/python3.10/dist-packages (from datapane) (14.0.2)\n",
            "Requirement already satisfied: typing-extensions<5.0.0,>=4.4.0 in /usr/local/lib/python3.10/dist-packages (from datapane) (4.11.0)\n",
            "Requirement already satisfied: vega-datasets<1.0.0,>=0.9.0 in /usr/local/lib/python3.10/dist-packages (from datapane) (0.9.0)\n",
            "Requirement already satisfied: jinja2 in /usr/local/lib/python3.10/dist-packages (from altair<6.0.0,>=5.0.0->datapane) (3.1.4)\n",
            "Requirement already satisfied: jsonschema>=3.0 in /usr/local/lib/python3.10/dist-packages (from altair<6.0.0,>=5.0.0->datapane) (4.19.2)\n",
            "Requirement already satisfied: numpy in /usr/local/lib/python3.10/dist-packages (from altair<6.0.0,>=5.0.0->datapane) (1.25.2)\n",
            "Requirement already satisfied: toolz in /usr/local/lib/python3.10/dist-packages (from altair<6.0.0,>=5.0.0->datapane) (0.12.1)\n",
            "Requirement already satisfied: ipykernel in /usr/local/lib/python3.10/dist-packages (from ipynbname>=2021.3.2->datapane) (5.5.6)\n",
            "Requirement already satisfied: python-dateutil>=2.8.1 in /usr/local/lib/python3.10/dist-packages (from pandas<2.0.0,>=1.4.0->datapane) (2.8.2)\n",
            "Requirement already satisfied: pytz>=2020.1 in /usr/local/lib/python3.10/dist-packages (from pandas<2.0.0,>=1.4.0->datapane) (2023.4)\n",
            "Requirement already satisfied: attrs>=22.2.0 in /usr/local/lib/python3.10/dist-packages (from jsonschema>=3.0->altair<6.0.0,>=5.0.0->datapane) (23.2.0)\n",
            "Requirement already satisfied: jsonschema-specifications>=2023.03.6 in /usr/local/lib/python3.10/dist-packages (from jsonschema>=3.0->altair<6.0.0,>=5.0.0->datapane) (2023.12.1)\n",
            "Requirement already satisfied: referencing>=0.28.4 in /usr/local/lib/python3.10/dist-packages (from jsonschema>=3.0->altair<6.0.0,>=5.0.0->datapane) (0.35.1)\n",
            "Requirement already satisfied: rpds-py>=0.7.1 in /usr/local/lib/python3.10/dist-packages (from jsonschema>=3.0->altair<6.0.0,>=5.0.0->datapane) (0.18.1)\n",
            "Requirement already satisfied: six>=1.5 in /usr/local/lib/python3.10/dist-packages (from python-dateutil>=2.8.1->pandas<2.0.0,>=1.4.0->datapane) (1.16.0)\n",
            "Requirement already satisfied: ipython-genutils in /usr/local/lib/python3.10/dist-packages (from ipykernel->ipynbname>=2021.3.2->datapane) (0.2.0)\n",
            "Requirement already satisfied: ipython>=5.0.0 in /usr/local/lib/python3.10/dist-packages (from ipykernel->ipynbname>=2021.3.2->datapane) (7.34.0)\n",
            "Requirement already satisfied: traitlets>=4.1.0 in /usr/local/lib/python3.10/dist-packages (from ipykernel->ipynbname>=2021.3.2->datapane) (5.7.1)\n",
            "Requirement already satisfied: jupyter-client in /usr/local/lib/python3.10/dist-packages (from ipykernel->ipynbname>=2021.3.2->datapane) (6.1.12)\n",
            "Requirement already satisfied: tornado>=4.2 in /usr/local/lib/python3.10/dist-packages (from ipykernel->ipynbname>=2021.3.2->datapane) (6.3.3)\n",
            "Requirement already satisfied: MarkupSafe>=2.0 in /usr/local/lib/python3.10/dist-packages (from jinja2->altair<6.0.0,>=5.0.0->datapane) (2.1.5)\n",
            "Requirement already satisfied: setuptools>=18.5 in /usr/local/lib/python3.10/dist-packages (from ipython>=5.0.0->ipykernel->ipynbname>=2021.3.2->datapane) (67.7.2)\n",
            "Requirement already satisfied: jedi>=0.16 in /usr/local/lib/python3.10/dist-packages (from ipython>=5.0.0->ipykernel->ipynbname>=2021.3.2->datapane) (0.19.1)\n",
            "Requirement already satisfied: decorator in /usr/local/lib/python3.10/dist-packages (from ipython>=5.0.0->ipykernel->ipynbname>=2021.3.2->datapane) (4.4.2)\n",
            "Requirement already satisfied: pickleshare in /usr/local/lib/python3.10/dist-packages (from ipython>=5.0.0->ipykernel->ipynbname>=2021.3.2->datapane) (0.7.5)\n",
            "Requirement already satisfied: prompt-toolkit!=3.0.0,!=3.0.1,<3.1.0,>=2.0.0 in /usr/local/lib/python3.10/dist-packages (from ipython>=5.0.0->ipykernel->ipynbname>=2021.3.2->datapane) (3.0.43)\n",
            "Requirement already satisfied: pygments in /usr/local/lib/python3.10/dist-packages (from ipython>=5.0.0->ipykernel->ipynbname>=2021.3.2->datapane) (2.16.1)\n",
            "Requirement already satisfied: backcall in /usr/local/lib/python3.10/dist-packages (from ipython>=5.0.0->ipykernel->ipynbname>=2021.3.2->datapane) (0.2.0)\n",
            "Requirement already satisfied: matplotlib-inline in /usr/local/lib/python3.10/dist-packages (from ipython>=5.0.0->ipykernel->ipynbname>=2021.3.2->datapane) (0.1.7)\n",
            "Requirement already satisfied: pexpect>4.3 in /usr/local/lib/python3.10/dist-packages (from ipython>=5.0.0->ipykernel->ipynbname>=2021.3.2->datapane) (4.9.0)\n",
            "Requirement already satisfied: jupyter-core>=4.6.0 in /usr/local/lib/python3.10/dist-packages (from jupyter-client->ipykernel->ipynbname>=2021.3.2->datapane) (5.7.2)\n",
            "Requirement already satisfied: pyzmq>=13 in /usr/local/lib/python3.10/dist-packages (from jupyter-client->ipykernel->ipynbname>=2021.3.2->datapane) (24.0.1)\n",
            "Requirement already satisfied: parso<0.9.0,>=0.8.3 in /usr/local/lib/python3.10/dist-packages (from jedi>=0.16->ipython>=5.0.0->ipykernel->ipynbname>=2021.3.2->datapane) (0.8.4)\n",
            "Requirement already satisfied: platformdirs>=2.5 in /usr/local/lib/python3.10/dist-packages (from jupyter-core>=4.6.0->jupyter-client->ipykernel->ipynbname>=2021.3.2->datapane) (4.2.2)\n",
            "Requirement already satisfied: ptyprocess>=0.5 in /usr/local/lib/python3.10/dist-packages (from pexpect>4.3->ipython>=5.0.0->ipykernel->ipynbname>=2021.3.2->datapane) (0.7.0)\n",
            "Requirement already satisfied: wcwidth in /usr/local/lib/python3.10/dist-packages (from prompt-toolkit!=3.0.0,!=3.0.1,<3.1.0,>=2.0.0->ipython>=5.0.0->ipykernel->ipynbname>=2021.3.2->datapane) (0.2.13)\n"
          ]
        }
      ]
    },
    {
      "cell_type": "markdown",
      "source": [
        "### Imports"
      ],
      "metadata": {
        "id": "ZwZIy8u5nd_P"
      }
    },
    {
      "cell_type": "code",
      "execution_count": 2,
      "metadata": {
        "id": "yxb3PWBKleU-"
      },
      "outputs": [],
      "source": [
        "import pandas as pd\n",
        "import datapane as dp\n",
        "import warnings"
      ]
    },
    {
      "cell_type": "markdown",
      "source": [
        "### General Configs"
      ],
      "metadata": {
        "id": "TIYVuv9ini0A"
      }
    },
    {
      "cell_type": "code",
      "source": [
        "# Suppress specific FutureWarning\n",
        "warnings.filterwarnings(\"ignore\", category=FutureWarning, module='datapane.common.df_processor')"
      ],
      "metadata": {
        "id": "8EmoquU6Wc47"
      },
      "execution_count": 3,
      "outputs": []
    },
    {
      "cell_type": "markdown",
      "source": [
        "### Functions"
      ],
      "metadata": {
        "id": "mcgyUurHn4Nj"
      }
    },
    {
      "cell_type": "code",
      "source": [
        "def sanity_check(df, metrics, percentile_99, percentile_01):\n",
        "    \"\"\"\n",
        "    Checks for anomalies in the DataFrame based on percentile thresholds.\n",
        "\n",
        "    Parameters:\n",
        "        df (DataFrame): The DataFrame containing the data to be checked for anomalies.\n",
        "        metrics (list): A list of column names representing the metrics to be checked.\n",
        "        percentile_99 (Series): A Series containing the 99th percentile values for each metric.\n",
        "        percentile_01 (Series): A Series containing the 1st percentile values for each metric.\n",
        "\n",
        "    Returns:\n",
        "        list: A list of boolean values indicating whether each row in the DataFrame is an anomaly.\n",
        "              True indicates an anomaly, False indicates normal data.\n",
        "    \"\"\"\n",
        "    anomalies_confirmed = []\n",
        "    for index, row in df.iterrows():\n",
        "        is_anomaly = False\n",
        "        for metric in metrics:\n",
        "            if row[metric] > percentile_99[metric] or row[metric] < percentile_01[metric]:\n",
        "                is_anomaly = True\n",
        "                break\n",
        "        anomalies_confirmed.append(is_anomaly)\n",
        "    return anomalies_confirmed"
      ],
      "metadata": {
        "id": "VOOf4ivVoKrE"
      },
      "execution_count": 4,
      "outputs": []
    },
    {
      "cell_type": "code",
      "source": [
        "def highlight_anomalies(s, percentile_99, percentile_01):\n",
        "    \"\"\"\n",
        "    Highlights anomalies in a Series based on percentile thresholds.\n",
        "\n",
        "    Parameters:\n",
        "        s (Series): The Series containing the data to be highlighted.\n",
        "        percentile_99 (Series): A Series containing the 99th percentile values for each metric.\n",
        "        percentile_01 (Series): A Series containing the 1st percentile values for each metric.\n",
        "\n",
        "    Returns:\n",
        "        list: A list of CSS strings specifying the background color for each cell in the Series.\n",
        "    \"\"\"\n",
        "    if s.name in new_metrics:\n",
        "        return [\n",
        "            'background-color: yellow' if (v > percentile_99.get(s.name, float('inf'))\n",
        "                                            or v < percentile_01.get(s.name, float('-inf')))\n",
        "            else ''\n",
        "            for v in s\n",
        "        ]\n",
        "    return ['' for _ in s]"
      ],
      "metadata": {
        "id": "2OF7yi8bogt3"
      },
      "execution_count": 5,
      "outputs": []
    },
    {
      "cell_type": "markdown",
      "source": [
        "### Data Structure Configurations"
      ],
      "metadata": {
        "id": "RvxdeGTMn6Xa"
      }
    },
    {
      "cell_type": "code",
      "source": [
        "metrics = [\n",
        "    'driver_endurance_score', 'driver_profitabilty_score',\n",
        "    'driver_safety_adherence_score', 'driving_efficiency_score'\n",
        "]"
      ],
      "metadata": {
        "id": "OepByP5xn_k4"
      },
      "execution_count": 6,
      "outputs": []
    },
    {
      "cell_type": "code",
      "source": [
        "rename_dict = {\n",
        "    'driver_id': 'Driver ID',\n",
        "    'full_name': 'Full Name',\n",
        "    'driver_endurance_score': 'Endurance Score',\n",
        "    'driver_profitabilty_score': 'Profitability Score',\n",
        "    'driver_safety_adherence_score': 'Safety Adherence Score',\n",
        "    'driving_efficiency_score': 'Efficiency Score',\n",
        "    'driver_endurance_score_99th_percentile': 'Endurance Score 99th Percentile',\n",
        "    'driver_profitabilty_score_99th_percentile': 'Profitability Score 99th Percentile',\n",
        "    'driver_safety_adherence_score_99th_percentile': 'Safety Adherence Score 99th Percentile',\n",
        "    'driving_efficiency_score_99th_percentile': 'Efficiency Score 99th Percentile',\n",
        "    'driver_endurance_score_1st_percentile': 'Endurance Score 1st Percentile',\n",
        "    'driver_profitabilty_score_1st_percentile': 'Profitability Score 1st Percentile',\n",
        "    'driver_safety_adherence_score_1st_percentile': 'Safety Adherence Score 1st Percentile',\n",
        "    'driving_efficiency_score_1st_percentile': 'Efficiency Score 1st Percentile',\n",
        "    'sanity_check': 'Sanity Check'\n",
        "}"
      ],
      "metadata": {
        "id": "fFY3672PoSwv"
      },
      "execution_count": 7,
      "outputs": []
    },
    {
      "cell_type": "code",
      "source": [
        "# Update the metrics list with new names\n",
        "new_metrics = [\n",
        "    'Endurance Score', 'Profitability Score',\n",
        "    'Safety Adherence Score', 'Efficiency Score'\n",
        "]"
      ],
      "metadata": {
        "id": "DY-vkxGpoZUk"
      },
      "execution_count": 8,
      "outputs": []
    },
    {
      "cell_type": "code",
      "source": [
        "# Markdown description for the report\n",
        "description = \"\"\"\n",
        "# 2b. Anomalies and Outliers Report\n",
        "\n",
        "## Overview\n",
        "This report displays anomalies in driver performance metrics.\n",
        "\n",
        "## Columns Included\n",
        "- **Driver ID**: Identifier for the driver.\n",
        "- **Full Name**: Name of the driver.\n",
        "- **Endurance Score**: Score indicating the driver's endurance.\n",
        "- **Profitability Score**: Score indicating the driver's profitability.\n",
        "- **Safety Adherence Score**: Score indicating the driver's safety adherence.\n",
        "- **Efficiency Score**: Score indicating the driver's efficiency.\n",
        "- **Endurance Score 99th Percentile**: 99th percentile value for the endurance score.\n",
        "- **Profitability Score 99th Percentile**: 99th percentile value for the profitability score.\n",
        "- **Safety Adherence Score 99th Percentile**: 99th percentile value for the safety adherence score.\n",
        "- **Efficiency Score 99th Percentile**: 99th percentile value for the efficiency score.\n",
        "- **Endurance Score 1st Percentile**: 1st percentile value for the endurance score.\n",
        "- **Profitability Score 1st Percentile**: 1st percentile value for the profitability score.\n",
        "- **Safety Adherence Score 1st Percentile**: 1st percentile value for the safety adherence score.\n",
        "- **Efficiency Score 1st Percentile**: 1st percentile value for the efficiency score.\n",
        "- **Sanity Check**: Indicates whether the anomaly is confirmed based on percentile thresholds.\n",
        "\n",
        "## How to Use\n",
        "1. **Identify Anomalies**: Look for rows where the \"Sanity Check\" column is marked as True. These rows represent anomalies in the driver performance metrics.\n",
        "2. **Analyze Metric Scores**: Focus on metrics with highlighted cells (background color yellow). These cells indicate that the corresponding metric value falls outside the normal range (outside 1st or 99th percentile).\n",
        "3. **Compare with Percentiles**: Compare the metric values with their respective 1st and 99th percentile values provided in the report. This helps in understanding how far the metric values deviate from the normal range.\n",
        "\n",
        "By following these steps, users can effectively identify and investigate anomalies and outliers in driver performance metrics.\n",
        "\n",
        "> **_NOTE:_** The sanity check should ideally be true for all entries in this report. However, in future iterations of this report, it will be possible to toggle the percentile values used for analyzing the data. Users will be able to customize both the percentile value that defines the normal range and the percentile value that identifies an anomaly. This feature will be particularly useful for examining extreme values that fall within the required percentile range but still may be of interest for further investigation.\n",
        "\n",
        "\"\"\""
      ],
      "metadata": {
        "id": "G2SqqGdzc-iz"
      },
      "execution_count": 9,
      "outputs": []
    },
    {
      "cell_type": "markdown",
      "source": [
        "### Execute"
      ],
      "metadata": {
        "id": "5Spjfq-cpHyq"
      }
    },
    {
      "cell_type": "markdown",
      "source": [
        "#### Prepare Data"
      ],
      "metadata": {
        "id": "bXWh03UcpME1"
      }
    },
    {
      "cell_type": "code",
      "source": [
        "# Load the data from the pickle file\n",
        "df = pd.read_pickle('data2.pkl')\n",
        "\n",
        "# Calculate the 99th and 1st percentiles for each metric column\n",
        "percentile_99 = df[metrics].quantile(0.99)\n",
        "percentile_01 = df[metrics].quantile(0.01)\n",
        "\n",
        "# Filter rows where is_outlier is True\n",
        "anomalies_df = df[df['is_outlier']].copy()\n",
        "\n",
        "# Perform sanity check\n",
        "sanity_check_results = sanity_check(anomalies_df, metrics, percentile_99, percentile_01)\n",
        "anomalies_df.loc[:, 'sanity_check'] = sanity_check_results\n",
        "\n",
        "# Add the 99th and 1st percentiles to the anomalies_df\n",
        "for metric in metrics:\n",
        "    anomalies_df.loc[:, f'{metric}_99th_percentile'] = percentile_99[metric]\n",
        "    anomalies_df.loc[:, f'{metric}_1st_percentile'] = percentile_01[metric]\n",
        "\n",
        "# Rename the columns\n",
        "anomalies_df.rename(columns=rename_dict, inplace=True)\n",
        "\n",
        "# Update the percentile dictionaries with new column names\n",
        "new_percentile_99 = percentile_99.rename(index=rename_dict)\n",
        "new_percentile_01 = percentile_01.rename(index=rename_dict)\n",
        "\n",
        "# Select the specified columns along with the percentiles\n",
        "columns_to_display = [\n",
        "    'Driver ID', 'Full Name'\n",
        "] + new_metrics + [\n",
        "    f'{metric} 99th Percentile' for metric in new_metrics\n",
        "] + [\n",
        "    f'{metric} 1st Percentile' for metric in new_metrics\n",
        "] + ['Sanity Check']\n",
        "\n",
        "anomalies_df = anomalies_df[columns_to_display]\n",
        "\n",
        "# Apply the highlight function only to the metric columns\n",
        "styled_anomalies_df = anomalies_df.style.apply(\n",
        "    highlight_anomalies,\n",
        "    subset=new_metrics,\n",
        "    percentile_99=new_percentile_99,\n",
        "    percentile_01=new_percentile_01\n",
        ")\n",
        "\n",
        "# Display the styled DataFrame\n",
        "#styled_anomalies_df"
      ],
      "metadata": {
        "id": "tcaqEm3JTLcA"
      },
      "execution_count": 10,
      "outputs": []
    },
    {
      "cell_type": "markdown",
      "source": [
        "#### Report Generation"
      ],
      "metadata": {
        "id": "g-i6c4mnovDB"
      }
    },
    {
      "cell_type": "code",
      "source": [
        "# Render the styled DataFrame to HTML\n",
        "styled_html = styled_anomalies_df.to_html()\n",
        "\n",
        "# Create a Datapane report using DataTable for better performance\n",
        "report = dp.Report(\n",
        "    dp.Text(description),\n",
        "    dp.HTML(styled_html) # Add the styled DataFrame as HTML\n",
        ")\n",
        "\n",
        "# Save the report as an HTML file\n",
        "report.save(path='2b_report_anomalies_and_outliers.html')"
      ],
      "metadata": {
        "colab": {
          "base_uri": "https://localhost:8080/",
          "height": 46
        },
        "id": "zdhs2OcVVdRa",
        "outputId": "752206ad-d8d3-41ab-dc54-3c0f92f345b5"
      },
      "execution_count": 11,
      "outputs": [
        {
          "output_type": "display_data",
          "data": {
            "text/plain": [
              "<IPython.core.display.Markdown object>"
            ],
            "text/markdown": "App saved to ./2b_report_anomalies_and_outliers.html"
          },
          "metadata": {}
        }
      ]
    }
  ]
}